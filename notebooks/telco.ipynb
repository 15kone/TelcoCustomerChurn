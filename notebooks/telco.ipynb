{
 "cells": [
  {
   "metadata": {
    "collapsed": true
   },
   "cell_type": "markdown",
   "source": [
    "# Telco Customer Churn Prediction\n",
    "\n",
    "## 1. Introduction\n",
    "\n",
    "In this notebook, I will build a machine learning model to predict customer churn for a telco company. The dataset contains information about customers, their usage patterns, and whether they churned or not.\n",
    "\n",
    "* Analyze customer behavior\n",
    "* Build a machine learning model to predict customer churn\n",
    "* Evaluate the model with accuracy, precision, recall, and F1 score\n",
    "* Provide insights on which factors affect customer churn\n"
   ],
   "id": "12205af85e474b9e"
  },
  {
   "metadata": {},
   "cell_type": "markdown",
   "source": "---",
   "id": "688c8108cf2a53e1"
  },
  {
   "metadata": {},
   "cell_type": "markdown",
   "source": "## 2. Import Libraries and Load Data",
   "id": "95f6c0ee99c016d"
  },
  {
   "metadata": {
    "ExecuteTime": {
     "end_time": "2025-09-25T19:07:26.362382Z",
     "start_time": "2025-09-25T19:07:26.345041Z"
    }
   },
   "cell_type": "code",
   "source": [
    "import pandas as pd\n",
    "import seaborn as sns\n",
    "import matplotlib.pyplot as plt\n",
    "from sklearn.model_selection import train_test_split, GridSearchCV\n",
    "from sklearn.metrics import accuracy_score, precision_score, recall_score, f1_score\n",
    "from sklearn.ensemble import RandomForestClassifier\n",
    "from sklearn.svm import LinearSVC\n",
    "from xgboost import XGBClassifier\n",
    "from imblearn.over_sampling import SMOTE\n",
    "\n",
    "df = pd.read_csv('../data/WA_Fn-UseC_-Telco-Customer-Churn.csv')"
   ],
   "id": "a7dd65eb70c24a62",
   "outputs": [],
   "execution_count": 48
  },
  {
   "metadata": {
    "ExecuteTime": {
     "end_time": "2025-09-25T19:07:26.376681Z",
     "start_time": "2025-09-25T19:07:26.367155Z"
    }
   },
   "cell_type": "code",
   "source": "df.head()",
   "id": "675994b57b5820d8",
   "outputs": [
    {
     "data": {
      "text/plain": [
       "   customerID  gender  SeniorCitizen Partner Dependents  tenure PhoneService  \\\n",
       "0  7590-VHVEG  Female              0     Yes         No       1           No   \n",
       "1  5575-GNVDE    Male              0      No         No      34          Yes   \n",
       "2  3668-QPYBK    Male              0      No         No       2          Yes   \n",
       "3  7795-CFOCW    Male              0      No         No      45           No   \n",
       "4  9237-HQITU  Female              0      No         No       2          Yes   \n",
       "\n",
       "      MultipleLines InternetService OnlineSecurity  ... DeviceProtection  \\\n",
       "0  No phone service             DSL             No  ...               No   \n",
       "1                No             DSL            Yes  ...              Yes   \n",
       "2                No             DSL            Yes  ...               No   \n",
       "3  No phone service             DSL            Yes  ...              Yes   \n",
       "4                No     Fiber optic             No  ...               No   \n",
       "\n",
       "  TechSupport StreamingTV StreamingMovies        Contract PaperlessBilling  \\\n",
       "0          No          No              No  Month-to-month              Yes   \n",
       "1          No          No              No        One year               No   \n",
       "2          No          No              No  Month-to-month              Yes   \n",
       "3         Yes          No              No        One year               No   \n",
       "4          No          No              No  Month-to-month              Yes   \n",
       "\n",
       "               PaymentMethod MonthlyCharges  TotalCharges Churn  \n",
       "0           Electronic check          29.85         29.85    No  \n",
       "1               Mailed check          56.95        1889.5    No  \n",
       "2               Mailed check          53.85        108.15   Yes  \n",
       "3  Bank transfer (automatic)          42.30       1840.75    No  \n",
       "4           Electronic check          70.70        151.65   Yes  \n",
       "\n",
       "[5 rows x 21 columns]"
      ],
      "text/html": [
       "<div>\n",
       "<style scoped>\n",
       "    .dataframe tbody tr th:only-of-type {\n",
       "        vertical-align: middle;\n",
       "    }\n",
       "\n",
       "    .dataframe tbody tr th {\n",
       "        vertical-align: top;\n",
       "    }\n",
       "\n",
       "    .dataframe thead th {\n",
       "        text-align: right;\n",
       "    }\n",
       "</style>\n",
       "<table border=\"1\" class=\"dataframe\">\n",
       "  <thead>\n",
       "    <tr style=\"text-align: right;\">\n",
       "      <th></th>\n",
       "      <th>customerID</th>\n",
       "      <th>gender</th>\n",
       "      <th>SeniorCitizen</th>\n",
       "      <th>Partner</th>\n",
       "      <th>Dependents</th>\n",
       "      <th>tenure</th>\n",
       "      <th>PhoneService</th>\n",
       "      <th>MultipleLines</th>\n",
       "      <th>InternetService</th>\n",
       "      <th>OnlineSecurity</th>\n",
       "      <th>...</th>\n",
       "      <th>DeviceProtection</th>\n",
       "      <th>TechSupport</th>\n",
       "      <th>StreamingTV</th>\n",
       "      <th>StreamingMovies</th>\n",
       "      <th>Contract</th>\n",
       "      <th>PaperlessBilling</th>\n",
       "      <th>PaymentMethod</th>\n",
       "      <th>MonthlyCharges</th>\n",
       "      <th>TotalCharges</th>\n",
       "      <th>Churn</th>\n",
       "    </tr>\n",
       "  </thead>\n",
       "  <tbody>\n",
       "    <tr>\n",
       "      <th>0</th>\n",
       "      <td>7590-VHVEG</td>\n",
       "      <td>Female</td>\n",
       "      <td>0</td>\n",
       "      <td>Yes</td>\n",
       "      <td>No</td>\n",
       "      <td>1</td>\n",
       "      <td>No</td>\n",
       "      <td>No phone service</td>\n",
       "      <td>DSL</td>\n",
       "      <td>No</td>\n",
       "      <td>...</td>\n",
       "      <td>No</td>\n",
       "      <td>No</td>\n",
       "      <td>No</td>\n",
       "      <td>No</td>\n",
       "      <td>Month-to-month</td>\n",
       "      <td>Yes</td>\n",
       "      <td>Electronic check</td>\n",
       "      <td>29.85</td>\n",
       "      <td>29.85</td>\n",
       "      <td>No</td>\n",
       "    </tr>\n",
       "    <tr>\n",
       "      <th>1</th>\n",
       "      <td>5575-GNVDE</td>\n",
       "      <td>Male</td>\n",
       "      <td>0</td>\n",
       "      <td>No</td>\n",
       "      <td>No</td>\n",
       "      <td>34</td>\n",
       "      <td>Yes</td>\n",
       "      <td>No</td>\n",
       "      <td>DSL</td>\n",
       "      <td>Yes</td>\n",
       "      <td>...</td>\n",
       "      <td>Yes</td>\n",
       "      <td>No</td>\n",
       "      <td>No</td>\n",
       "      <td>No</td>\n",
       "      <td>One year</td>\n",
       "      <td>No</td>\n",
       "      <td>Mailed check</td>\n",
       "      <td>56.95</td>\n",
       "      <td>1889.5</td>\n",
       "      <td>No</td>\n",
       "    </tr>\n",
       "    <tr>\n",
       "      <th>2</th>\n",
       "      <td>3668-QPYBK</td>\n",
       "      <td>Male</td>\n",
       "      <td>0</td>\n",
       "      <td>No</td>\n",
       "      <td>No</td>\n",
       "      <td>2</td>\n",
       "      <td>Yes</td>\n",
       "      <td>No</td>\n",
       "      <td>DSL</td>\n",
       "      <td>Yes</td>\n",
       "      <td>...</td>\n",
       "      <td>No</td>\n",
       "      <td>No</td>\n",
       "      <td>No</td>\n",
       "      <td>No</td>\n",
       "      <td>Month-to-month</td>\n",
       "      <td>Yes</td>\n",
       "      <td>Mailed check</td>\n",
       "      <td>53.85</td>\n",
       "      <td>108.15</td>\n",
       "      <td>Yes</td>\n",
       "    </tr>\n",
       "    <tr>\n",
       "      <th>3</th>\n",
       "      <td>7795-CFOCW</td>\n",
       "      <td>Male</td>\n",
       "      <td>0</td>\n",
       "      <td>No</td>\n",
       "      <td>No</td>\n",
       "      <td>45</td>\n",
       "      <td>No</td>\n",
       "      <td>No phone service</td>\n",
       "      <td>DSL</td>\n",
       "      <td>Yes</td>\n",
       "      <td>...</td>\n",
       "      <td>Yes</td>\n",
       "      <td>Yes</td>\n",
       "      <td>No</td>\n",
       "      <td>No</td>\n",
       "      <td>One year</td>\n",
       "      <td>No</td>\n",
       "      <td>Bank transfer (automatic)</td>\n",
       "      <td>42.30</td>\n",
       "      <td>1840.75</td>\n",
       "      <td>No</td>\n",
       "    </tr>\n",
       "    <tr>\n",
       "      <th>4</th>\n",
       "      <td>9237-HQITU</td>\n",
       "      <td>Female</td>\n",
       "      <td>0</td>\n",
       "      <td>No</td>\n",
       "      <td>No</td>\n",
       "      <td>2</td>\n",
       "      <td>Yes</td>\n",
       "      <td>No</td>\n",
       "      <td>Fiber optic</td>\n",
       "      <td>No</td>\n",
       "      <td>...</td>\n",
       "      <td>No</td>\n",
       "      <td>No</td>\n",
       "      <td>No</td>\n",
       "      <td>No</td>\n",
       "      <td>Month-to-month</td>\n",
       "      <td>Yes</td>\n",
       "      <td>Electronic check</td>\n",
       "      <td>70.70</td>\n",
       "      <td>151.65</td>\n",
       "      <td>Yes</td>\n",
       "    </tr>\n",
       "  </tbody>\n",
       "</table>\n",
       "<p>5 rows × 21 columns</p>\n",
       "</div>"
      ]
     },
     "execution_count": 49,
     "metadata": {},
     "output_type": "execute_result"
    }
   ],
   "execution_count": 49
  },
  {
   "metadata": {
    "ExecuteTime": {
     "end_time": "2025-09-25T19:07:26.442459Z",
     "start_time": "2025-09-25T19:07:26.433397Z"
    }
   },
   "cell_type": "code",
   "source": "df.info()",
   "id": "c902761ca1d4ba32",
   "outputs": [
    {
     "name": "stdout",
     "output_type": "stream",
     "text": [
      "<class 'pandas.core.frame.DataFrame'>\n",
      "RangeIndex: 7043 entries, 0 to 7042\n",
      "Data columns (total 21 columns):\n",
      " #   Column            Non-Null Count  Dtype  \n",
      "---  ------            --------------  -----  \n",
      " 0   customerID        7043 non-null   object \n",
      " 1   gender            7043 non-null   object \n",
      " 2   SeniorCitizen     7043 non-null   int64  \n",
      " 3   Partner           7043 non-null   object \n",
      " 4   Dependents        7043 non-null   object \n",
      " 5   tenure            7043 non-null   int64  \n",
      " 6   PhoneService      7043 non-null   object \n",
      " 7   MultipleLines     7043 non-null   object \n",
      " 8   InternetService   7043 non-null   object \n",
      " 9   OnlineSecurity    7043 non-null   object \n",
      " 10  OnlineBackup      7043 non-null   object \n",
      " 11  DeviceProtection  7043 non-null   object \n",
      " 12  TechSupport       7043 non-null   object \n",
      " 13  StreamingTV       7043 non-null   object \n",
      " 14  StreamingMovies   7043 non-null   object \n",
      " 15  Contract          7043 non-null   object \n",
      " 16  PaperlessBilling  7043 non-null   object \n",
      " 17  PaymentMethod     7043 non-null   object \n",
      " 18  MonthlyCharges    7043 non-null   float64\n",
      " 19  TotalCharges      7043 non-null   object \n",
      " 20  Churn             7043 non-null   object \n",
      "dtypes: float64(1), int64(2), object(18)\n",
      "memory usage: 1.1+ MB\n"
     ]
    }
   ],
   "execution_count": 50
  },
  {
   "metadata": {
    "ExecuteTime": {
     "end_time": "2025-09-25T19:07:26.495728Z",
     "start_time": "2025-09-25T19:07:26.486782Z"
    }
   },
   "cell_type": "code",
   "source": "df.describe()",
   "id": "df32bc84fd536156",
   "outputs": [
    {
     "data": {
      "text/plain": [
       "       SeniorCitizen       tenure  MonthlyCharges\n",
       "count    7043.000000  7043.000000     7043.000000\n",
       "mean        0.162147    32.371149       64.761692\n",
       "std         0.368612    24.559481       30.090047\n",
       "min         0.000000     0.000000       18.250000\n",
       "25%         0.000000     9.000000       35.500000\n",
       "50%         0.000000    29.000000       70.350000\n",
       "75%         0.000000    55.000000       89.850000\n",
       "max         1.000000    72.000000      118.750000"
      ],
      "text/html": [
       "<div>\n",
       "<style scoped>\n",
       "    .dataframe tbody tr th:only-of-type {\n",
       "        vertical-align: middle;\n",
       "    }\n",
       "\n",
       "    .dataframe tbody tr th {\n",
       "        vertical-align: top;\n",
       "    }\n",
       "\n",
       "    .dataframe thead th {\n",
       "        text-align: right;\n",
       "    }\n",
       "</style>\n",
       "<table border=\"1\" class=\"dataframe\">\n",
       "  <thead>\n",
       "    <tr style=\"text-align: right;\">\n",
       "      <th></th>\n",
       "      <th>SeniorCitizen</th>\n",
       "      <th>tenure</th>\n",
       "      <th>MonthlyCharges</th>\n",
       "    </tr>\n",
       "  </thead>\n",
       "  <tbody>\n",
       "    <tr>\n",
       "      <th>count</th>\n",
       "      <td>7043.000000</td>\n",
       "      <td>7043.000000</td>\n",
       "      <td>7043.000000</td>\n",
       "    </tr>\n",
       "    <tr>\n",
       "      <th>mean</th>\n",
       "      <td>0.162147</td>\n",
       "      <td>32.371149</td>\n",
       "      <td>64.761692</td>\n",
       "    </tr>\n",
       "    <tr>\n",
       "      <th>std</th>\n",
       "      <td>0.368612</td>\n",
       "      <td>24.559481</td>\n",
       "      <td>30.090047</td>\n",
       "    </tr>\n",
       "    <tr>\n",
       "      <th>min</th>\n",
       "      <td>0.000000</td>\n",
       "      <td>0.000000</td>\n",
       "      <td>18.250000</td>\n",
       "    </tr>\n",
       "    <tr>\n",
       "      <th>25%</th>\n",
       "      <td>0.000000</td>\n",
       "      <td>9.000000</td>\n",
       "      <td>35.500000</td>\n",
       "    </tr>\n",
       "    <tr>\n",
       "      <th>50%</th>\n",
       "      <td>0.000000</td>\n",
       "      <td>29.000000</td>\n",
       "      <td>70.350000</td>\n",
       "    </tr>\n",
       "    <tr>\n",
       "      <th>75%</th>\n",
       "      <td>0.000000</td>\n",
       "      <td>55.000000</td>\n",
       "      <td>89.850000</td>\n",
       "    </tr>\n",
       "    <tr>\n",
       "      <th>max</th>\n",
       "      <td>1.000000</td>\n",
       "      <td>72.000000</td>\n",
       "      <td>118.750000</td>\n",
       "    </tr>\n",
       "  </tbody>\n",
       "</table>\n",
       "</div>"
      ]
     },
     "execution_count": 51,
     "metadata": {},
     "output_type": "execute_result"
    }
   ],
   "execution_count": 51
  },
  {
   "metadata": {},
   "cell_type": "markdown",
   "source": "---",
   "id": "e460a4e831e0dead"
  },
  {
   "metadata": {},
   "cell_type": "markdown",
   "source": [
    "## 3. Data Cleaning\n",
    "* Convert TotalCharges to numeric\n",
    "* Drop missing rows\n",
    "* Encode categorical variables"
   ],
   "id": "67c4b1a62e7332c4"
  },
  {
   "metadata": {
    "ExecuteTime": {
     "end_time": "2025-09-25T19:07:26.556968Z",
     "start_time": "2025-09-25T19:07:26.535479Z"
    }
   },
   "cell_type": "code",
   "source": [
    "df['TotalCharges'] = pd.to_numeric(df['TotalCharges'], errors='coerce')\n",
    "df = df.dropna(subset=['TotalCharges'])\n",
    "\n",
    "# Binary encoding\n",
    "binary_columns = ['Partner', 'Dependents', 'PhoneService', 'PaperlessBilling', 'Churn']\n",
    "for col in binary_columns:\n",
    "    df[col] = df[col].map({'Yes': 1, 'No': 0})\n",
    "\n",
    "df['gender'] = df['gender'].map({'Male': 1, 'Female': 0})\n",
    "\n",
    "# One-hot encoding\n",
    "categorical_columns = [\n",
    "    'MultipleLines', 'InternetService', 'OnlineSecurity',\n",
    "    'OnlineBackup', 'DeviceProtection', 'TechSupport',\n",
    "    'StreamingTV', 'StreamingMovies', 'Contract',\n",
    "    'PaymentMethod'\n",
    "]\n",
    "\n",
    "df = pd.get_dummies(df, columns=categorical_columns)\n",
    "\n",
    "# Drop customerID column, it is not needed for training\n",
    "df = df.drop('customerID', axis=1)"
   ],
   "id": "3d338d5d3a1cefff",
   "outputs": [],
   "execution_count": 52
  },
  {
   "metadata": {},
   "cell_type": "markdown",
   "source": "---",
   "id": "1210eb282543902b"
  },
  {
   "metadata": {
    "ExecuteTime": {
     "end_time": "2025-09-25T18:38:59.873Z",
     "start_time": "2025-09-25T18:38:59.871497Z"
    }
   },
   "cell_type": "markdown",
   "source": "## 4. Exploratory Data Analysis (EDA)",
   "id": "c49a0db113dd1cc"
  },
  {
   "metadata": {
    "ExecuteTime": {
     "end_time": "2025-09-25T19:07:26.669416Z",
     "start_time": "2025-09-25T19:07:26.586087Z"
    }
   },
   "cell_type": "code",
   "source": [
    "plt.figure(figsize=(10, 6))\n",
    "sns.countplot(x='Churn', data=df)\n",
    "plt.title('Distribution of Churn')\n",
    "plt.show()"
   ],
   "id": "1bac247723f98328",
   "outputs": [
    {
     "data": {
      "text/plain": [
       "<Figure size 1000x600 with 1 Axes>"
      ],
      "image/png": "[encoded data removed]"
     },
     "metadata": {},
     "output_type": "display_data",
     "jetTransient": {
      "display_id": null
     }
    }
   ],
   "execution_count": 53
  },
  {
   "metadata": {
    "ExecuteTime": {
     "end_time": "2025-09-25T19:07:26.680880Z",
     "start_time": "2025-09-25T19:07:26.676749Z"
    }
   },
   "cell_type": "code",
   "source": "df['Churn'].value_counts(normalize=True) * 100",
   "id": "4850c570383ecc8",
   "outputs": [
    {
     "data": {
      "text/plain": [
       "Churn\n",
       "0    73.421502\n",
       "1    26.578498\n",
       "Name: proportion, dtype: float64"
      ]
     },
     "execution_count": 54,
     "metadata": {},
     "output_type": "execute_result"
    }
   ],
   "execution_count": 54
  },
  {
   "metadata": {},
   "cell_type": "markdown",
   "source": "*Our dataset is imbalanced, with only 26% of the customers churning.*",
   "id": "faae79c927a22e9"
  },
  {
   "metadata": {
    "ExecuteTime": {
     "end_time": "2025-09-25T19:07:26.845037Z",
     "start_time": "2025-09-25T19:07:26.737598Z"
    }
   },
   "cell_type": "code",
   "source": [
    "plt.figure(figsize=(10, 6))\n",
    "sns.histplot(x='tenure', data=df, bins=30)\n",
    "plt.title('Distribution of Tenure')\n",
    "plt.xlabel('Tenure')\n",
    "plt.ylabel('Customer Count')\n",
    "plt.show()"
   ],
   "id": "85b8e9a3773ca122",
   "outputs": [
    {
     "data": {
      "text/plain": [
       "<Figure size 1000x600 with 1 Axes>"
      ],
      "image/png": "[encoded data removed]"
     },
     "metadata": {},
     "output_type": "display_data",
     "jetTransient": {
      "display_id": null
     }
    }
   ],
   "execution_count": 55
  },
  {
   "metadata": {},
   "cell_type": "markdown",
   "source": "*Many customers are either very new (low tenure) or have been with the company for a long time (high tenure).*",
   "id": "d7ec5b1655aa75c3"
  },
  {
   "metadata": {},
   "cell_type": "markdown",
   "source": "---",
   "id": "3f248415a994693e"
  },
  {
   "metadata": {},
   "cell_type": "markdown",
   "source": "## 5. Train/Test Split",
   "id": "8bf4f335b62b6f71"
  },
  {
   "metadata": {
    "ExecuteTime": {
     "end_time": "2025-09-25T19:07:26.854529Z",
     "start_time": "2025-09-25T19:07:26.849775Z"
    }
   },
   "cell_type": "code",
   "source": [
    "X = df.drop('Churn', axis=1)\n",
    "y = df['Churn']\n",
    "X_train, X_test, y_train, y_test = train_test_split(X, y, test_size=0.2)"
   ],
   "id": "aed3afc12c0530e7",
   "outputs": [],
   "execution_count": 56
  },
  {
   "metadata": {},
   "cell_type": "markdown",
   "source": "---",
   "id": "c1fdfc1f8b3b6713"
  },
  {
   "metadata": {
    "ExecuteTime": {
     "end_time": "2025-09-25T18:50:49.292494Z",
     "start_time": "2025-09-25T18:50:49.290756Z"
    }
   },
   "cell_type": "markdown",
   "source": "## 6. Baseline Models",
   "id": "cf71f616a23dc0e"
  },
  {
   "metadata": {},
   "cell_type": "markdown",
   "source": "#### Helper function for model evaluation",
   "id": "82dd33587d297f29"
  },
  {
   "metadata": {
    "ExecuteTime": {
     "end_time": "2025-09-25T19:07:26.897697Z",
     "start_time": "2025-09-25T19:07:26.895622Z"
    }
   },
   "cell_type": "code",
   "source": [
    "def evaluate_model(model, X_test, y_test):\n",
    "    y_pred = model.predict(X_test)\n",
    "    print(f'Accuracy: {accuracy_score(y_test, y_pred)}')\n",
    "    print('Precision:', precision_score(y_test, y_pred))\n",
    "    print('Recall:', recall_score(y_test, y_pred))\n",
    "    print('F1 Score:', f1_score(y_test, y_pred))"
   ],
   "id": "9749e8e822f4b05",
   "outputs": [],
   "execution_count": 57
  },
  {
   "metadata": {},
   "cell_type": "markdown",
   "source": "#### LinearSVC",
   "id": "f1651ab0ffac781e"
  },
  {
   "metadata": {
    "ExecuteTime": {
     "end_time": "2025-09-25T19:07:26.970378Z",
     "start_time": "2025-09-25T19:07:26.942374Z"
    }
   },
   "cell_type": "code",
   "source": [
    "svc = LinearSVC(random_state=42)\n",
    "svc.fit(X_train, y_train)\n",
    "evaluate_model(svc, X_test, y_test)"
   ],
   "id": "f6e1a86b5d518a18",
   "outputs": [
    {
     "name": "stdout",
     "output_type": "stream",
     "text": [
      "Accuracy: 0.7874911158493249\n",
      "Precision: 0.6678700361010831\n",
      "Recall: 0.4719387755102041\n",
      "F1 Score: 0.5530642750373692\n"
     ]
    }
   ],
   "execution_count": 58
  },
  {
   "metadata": {},
   "cell_type": "markdown",
   "source": "#### RandomForestClassifier",
   "id": "da1f5c7a083078eb"
  },
  {
   "metadata": {
    "ExecuteTime": {
     "end_time": "2025-09-25T19:07:27.491839Z",
     "start_time": "2025-09-25T19:07:26.990131Z"
    }
   },
   "cell_type": "code",
   "source": [
    "rf = RandomForestClassifier(random_state=42)\n",
    "rf.fit(X_train, y_train)\n",
    "evaluate_model(rf, X_test, y_test)"
   ],
   "id": "a55eaeef039231d4",
   "outputs": [
    {
     "name": "stdout",
     "output_type": "stream",
     "text": [
      "Accuracy: 0.775408670931059\n",
      "Precision: 0.6225806451612903\n",
      "Recall: 0.4923469387755102\n",
      "F1 Score: 0.5498575498575499\n"
     ]
    }
   ],
   "execution_count": 59
  },
  {
   "metadata": {},
   "cell_type": "markdown",
   "source": "#### XGBoost",
   "id": "37baae66380d6c3a"
  },
  {
   "metadata": {
    "ExecuteTime": {
     "end_time": "2025-09-25T19:07:27.642761Z",
     "start_time": "2025-09-25T19:07:27.501853Z"
    }
   },
   "cell_type": "code",
   "source": [
    "xgb = XGBClassifier(random_state=42)\n",
    "xgb.fit(X_train, y_train)\n",
    "evaluate_model(xgb, X_test, y_test)"
   ],
   "id": "3380631ad30fa4b5",
   "outputs": [
    {
     "name": "stdout",
     "output_type": "stream",
     "text": [
      "Accuracy: 0.7725657427149965\n",
      "Precision: 0.6104294478527608\n",
      "Recall: 0.5076530612244898\n",
      "F1 Score: 0.5543175487465181\n"
     ]
    }
   ],
   "execution_count": 60
  },
  {
   "metadata": {},
   "cell_type": "markdown",
   "source": "---",
   "id": "1358bb977a205132"
  },
  {
   "metadata": {},
   "cell_type": "markdown",
   "source": "## 7. Addressing Imbalance with SMOTE",
   "id": "d3863d8352985f90"
  },
  {
   "metadata": {
    "ExecuteTime": {
     "end_time": "2025-09-25T19:07:28.021899Z",
     "start_time": "2025-09-25T19:07:27.653115Z"
    }
   },
   "cell_type": "code",
   "source": [
    "smote = SMOTE(random_state=42)\n",
    "X_train_res, y_train_res = smote.fit_resample(X_train, y_train)\n",
    "\n",
    "xgb_smote = XGBClassifier(random_state=42)\n",
    "xgb_smote.fit(X_train_res, y_train_res)\n",
    "evaluate_model(xgb_smote, X_test, y_test)"
   ],
   "id": "39a47cf391c615da",
   "outputs": [
    {
     "name": "stdout",
     "output_type": "stream",
     "text": [
      "Accuracy: 0.7661691542288557\n",
      "Precision: 0.5918367346938775\n",
      "Recall: 0.5178571428571429\n",
      "F1 Score: 0.5523809523809524\n"
     ]
    }
   ],
   "execution_count": 61
  },
  {
   "metadata": {},
   "cell_type": "markdown",
   "source": "---",
   "id": "e65725f641c98b98"
  },
  {
   "metadata": {},
   "cell_type": "markdown",
   "source": "## 8. Hyperparameter Tuning XGBoost with GridSearchCV",
   "id": "892d5568a0aac64d"
  },
  {
   "metadata": {
    "ExecuteTime": {
     "end_time": "2025-09-25T19:07:57.708782Z",
     "start_time": "2025-09-25T19:07:28.035552Z"
    }
   },
   "cell_type": "code",
   "source": [
    "param_grid = {\n",
    "    'n_estimators': [100, 200, 300],\n",
    "    'max_depth': [3, 5, 7],\n",
    "    'learning_rate': [0.01, 0.1, 0.2],\n",
    "    'subsample': [0.7, 0.9, 1.0],\n",
    "    'colsample_bytree': [0.7, 0.9, 1.0],\n",
    "}\n",
    "\n",
    "grid_search = GridSearchCV(XGBClassifier(random_state=42), param_grid=param_grid, cv=5, n_jobs=-1)\n",
    "grid_search.fit(X_train_res, y_train_res)\n",
    "best_model = grid_search.best_estimator_\n",
    "\n",
    "evaluate_model(best_model, X_test, y_test)"
   ],
   "id": "fe0e837ffa800010",
   "outputs": [
    {
     "name": "stdout",
     "output_type": "stream",
     "text": [
      "Accuracy: 0.7818052594171997\n",
      "Precision: 0.6109660574412533\n",
      "Recall: 0.5969387755102041\n",
      "F1 Score: 0.6038709677419355\n"
     ]
    }
   ],
   "execution_count": 62
  },
  {
   "metadata": {},
   "cell_type": "markdown",
   "source": "---",
   "id": "d4d07e2b4633a6bd"
  },
  {
   "metadata": {},
   "cell_type": "markdown",
   "source": "## 9. Feature Importance",
   "id": "60d4bccd595a00e6"
  },
  {
   "metadata": {
    "ExecuteTime": {
     "end_time": "2025-09-25T19:13:50.087889Z",
     "start_time": "2025-09-25T19:13:49.980406Z"
    }
   },
   "cell_type": "code",
   "source": [
    "importances = best_model.feature_importances_\n",
    "features = X.columns\n",
    "feat_imp = pd.DataFrame({'Feature': features, 'Importance': importances})\n",
    "\n",
    "plt.figure(figsize=(10, 6))\n",
    "sns.barplot(x='Importance', y='Feature', data=feat_imp.head(10).sort_values(by='Importance', ascending=False))\n",
    "plt.title('Feature Importance')\n",
    "plt.xlabel('Importance')\n",
    "plt.ylabel('Feature')\n",
    "plt.show()"
   ],
   "id": "a14847e0702763e7",
   "outputs": [
    {
     "data": {
      "text/plain": [
       "<Figure size 1000x600 with 1 Axes>"
      ],
      "image/png": "[encoded data removed]"
     },
     "metadata": {},
     "output_type": "display_data",
     "jetTransient": {
      "display_id": null
     }
    }
   ],
   "execution_count": 64
  },
  {
   "metadata": {
    "ExecuteTime": {
     "end_time": "2025-09-25T19:15:43.802800Z",
     "start_time": "2025-09-25T19:15:43.797909Z"
    }
   },
   "cell_type": "code",
   "source": [
    "contract_features = [col for col in X.columns if 'Contract' in col]\n",
    "\n",
    "feat_imp[feat_imp['Feature'].isin(contract_features)] \\\n",
    "    .sort_values(by='Importance', ascending=False)\n"
   ],
   "id": "f4b9d7285c9dfeea",
   "outputs": [
    {
     "data": {
      "text/plain": [
       "                    Feature  Importance\n",
       "33  Contract_Month-to-month    0.499106\n",
       "35        Contract_Two year    0.018152\n",
       "34        Contract_One year    0.017796"
      ],
      "text/html": [
       "<div>\n",
       "<style scoped>\n",
       "    .dataframe tbody tr th:only-of-type {\n",
       "        vertical-align: middle;\n",
       "    }\n",
       "\n",
       "    .dataframe tbody tr th {\n",
       "        vertical-align: top;\n",
       "    }\n",
       "\n",
       "    .dataframe thead th {\n",
       "        text-align: right;\n",
       "    }\n",
       "</style>\n",
       "<table border=\"1\" class=\"dataframe\">\n",
       "  <thead>\n",
       "    <tr style=\"text-align: right;\">\n",
       "      <th></th>\n",
       "      <th>Feature</th>\n",
       "      <th>Importance</th>\n",
       "    </tr>\n",
       "  </thead>\n",
       "  <tbody>\n",
       "    <tr>\n",
       "      <th>33</th>\n",
       "      <td>Contract_Month-to-month</td>\n",
       "      <td>0.499106</td>\n",
       "    </tr>\n",
       "    <tr>\n",
       "      <th>35</th>\n",
       "      <td>Contract_Two year</td>\n",
       "      <td>0.018152</td>\n",
       "    </tr>\n",
       "    <tr>\n",
       "      <th>34</th>\n",
       "      <td>Contract_One year</td>\n",
       "      <td>0.017796</td>\n",
       "    </tr>\n",
       "  </tbody>\n",
       "</table>\n",
       "</div>"
      ]
     },
     "execution_count": 66,
     "metadata": {},
     "output_type": "execute_result"
    }
   ],
   "execution_count": 66
  },
  {
   "metadata": {},
   "cell_type": "markdown",
   "source": [
    "* *Contract Type* is the strongest predictor of churn. Customers with month-to-month contracts are more likely to churn.\n",
    "* Customers on a 1-year or 2-year contracts are less likely to churn.\n",
    "* This finding suggests that encouraging customers to sign longer contracts could help reduce churn.\n",
    "* **MultipleLines_No** and **Dependents** are strong predictors of churn. Customers without multiple lines and without dependents are more likely to churn.\n",
    "* **Tenure** is also a strong predictor of churn. Customers with low tenure are more likely to churn.\n",
    "* **MonthlyCharges** and **TotalCharges** indicate that pricing is an important factor in customer retention."
   ],
   "id": "4ea02639cd8090e2"
  }
 ],
 "metadata": {
  "kernelspec": {
   "display_name": "Python 3",
   "language": "python",
   "name": "python3"
  },
  "language_info": {
   "codemirror_mode": {
    "name": "ipython",
    "version": 2
   },
   "file_extension": ".py",
   "mimetype": "text/x-python",
   "name": "python",
   "nbconvert_exporter": "python",
   "pygments_lexer": "ipython2",
   "version": "2.7.6"
  }
 },
 "nbformat": 4,
 "nbformat_minor": 5
}
